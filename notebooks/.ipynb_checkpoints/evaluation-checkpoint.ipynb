{
 "cells": [
  {
   "cell_type": "markdown",
   "metadata": {},
   "source": [
    "# SQLDepth Evaluation\n",
    "In this notebook we show the results of evaluation for all the models for both eigen and eigen_benchmark splits.\n",
    "**NOTE: RUN THIS IF YOU HAVE A CUDA AVAILABLE!**"
   ]
  },
  {
   "cell_type": "code",
   "execution_count": 4,
   "metadata": {},
   "outputs": [],
   "source": [
    "import os\n",
    "import cv2\n",
    "import numpy as np\n",
    "import torch\n",
    "\n",
    "from src.evaluation.evaluate_depth import evaluate\n",
    "from src.config.conf import ResNet50_320x1024_Conf, ResNet50_192x640_Conf, ConvNeXtLarge_320x1024_Conf, Effb5_320x1024_Conf"
   ]
  },
  {
   "cell_type": "markdown",
   "metadata": {},
   "source": [
    "## Evaluation split: eigen"
   ]
  },
  {
   "cell_type": "markdown",
   "metadata": {},
   "source": [
    "### ResNet50 - 192x640 model evaluation"
   ]
  },
  {
   "cell_type": "code",
   "execution_count": 9,
   "metadata": {},
   "outputs": [
    {
     "name": "stdout",
     "output_type": "stream",
     "text": [
      "-> Loading weights from /data/disertatie/SQLdepth/src/pretrained/KITTI_ResNet50_192x640_models\n",
      "Total Trainable Params: 28232680\n",
      "Total Trainable Params: 2819264\n",
      "-> Loading pretrained encoder from  /data/disertatie/SQLdepth/src/pretrained/KITTI_ResNet50_192x640_models\n",
      "-> Loading pretrained depth decoder from  /data/disertatie/SQLdepth/src/pretrained/KITTI_ResNet50_192x640_models\n",
      "-> Computing predictions with size 640x192 (WxH)\n"
     ]
    },
    {
     "name": "stderr",
     "output_type": "stream",
     "text": [
      "100%|███████████████████████████████████████████████████████████████████████████████████████████████████████████████████████████████████████████████████████████████████████| 697/697 [00:49<00:00, 14.00it/s]\n"
     ]
    },
    {
     "name": "stdout",
     "output_type": "stream",
     "text": [
      "-> Evaluating\n",
      "   Mono evaluation - using median scaling\n",
      " Scaling ratios | med: 5.541 | std: 0.069\n",
      "\n",
      "   abs_rel |   sq_rel |     rmse | rmse_log |       a1 |       a2 |       a3 | \n",
      "&   0.088  &   0.698  &   4.175  &   0.167  &   0.919  &   0.969  &   0.984  \\\\\n",
      "\n",
      "-> Done!\n"
     ]
    }
   ],
   "source": [
    "conf = ResNet50_192x640_Conf().conf\n",
    "evaluate(conf)"
   ]
  },
  {
   "cell_type": "markdown",
   "metadata": {},
   "source": [
    "### ResNet50 - 320x1024 model evaluation"
   ]
  },
  {
   "cell_type": "code",
   "execution_count": 10,
   "metadata": {},
   "outputs": [
    {
     "name": "stdout",
     "output_type": "stream",
     "text": [
      "-> Loading weights from /data/disertatie/SQLdepth/src/pretrained/KITTI_ResNet50_320x1024_models\n",
      "Total Trainable Params: 28232680\n",
      "Total Trainable Params: 9550144\n",
      "-> Loading pretrained encoder from  /data/disertatie/SQLdepth/src/pretrained/KITTI_ResNet50_320x1024_models\n",
      "-> Loading pretrained depth decoder from  /data/disertatie/SQLdepth/src/pretrained/KITTI_ResNet50_320x1024_models\n",
      "-> Computing predictions with size 1024x320 (WxH)\n"
     ]
    },
    {
     "name": "stderr",
     "output_type": "stream",
     "text": [
      "100%|███████████████████████████████████████████████████████████████████████████████████████████████████████████████████████████████████████████████████████████████████████| 697/697 [01:36<00:00,  7.24it/s]\n"
     ]
    },
    {
     "name": "stdout",
     "output_type": "stream",
     "text": [
      "-> Evaluating\n",
      "   Mono evaluation - using median scaling\n",
      " Scaling ratios | med: 5.535 | std: 0.080\n",
      "\n",
      "   abs_rel |   sq_rel |     rmse | rmse_log |       a1 |       a2 |       a3 | \n",
      "&   0.082  &   0.607  &   3.914  &   0.160  &   0.928  &   0.972  &   0.985  \\\\\n",
      "\n",
      "-> Done!\n"
     ]
    }
   ],
   "source": [
    "conf = ResNet50_320x1024_Conf().conf\n",
    "evaluate(conf)"
   ]
  },
  {
   "cell_type": "markdown",
   "metadata": {},
   "source": [
    "### EfficientNetB5 - 320x1024 model evaluation"
   ]
  },
  {
   "cell_type": "code",
   "execution_count": 11,
   "metadata": {},
   "outputs": [
    {
     "name": "stdout",
     "output_type": "stream",
     "text": [
      "-> Loading weights from /data/disertatie/SQLdepth/src/pretrained/KITTI_EfficientNetB5_320x1024_models\n",
      "Total Trainable Params: 35380176\n",
      "Total Trainable Params: 10322240\n",
      "-> Loading pretrained encoder from  /data/disertatie/SQLdepth/src/pretrained/KITTI_EfficientNetB5_320x1024_models\n",
      "-> Loading pretrained depth decoder from  /data/disertatie/SQLdepth/src/pretrained/KITTI_EfficientNetB5_320x1024_models\n",
      "-> Computing predictions with size 1024x320 (WxH)\n"
     ]
    },
    {
     "name": "stderr",
     "output_type": "stream",
     "text": [
      "100%|███████████████████████████████████████████████████████████████████████████████████████████████████████████████████████████████████████████████████████████████████████| 697/697 [06:01<00:00,  1.93it/s]\n"
     ]
    },
    {
     "name": "stdout",
     "output_type": "stream",
     "text": [
      "-> Evaluating\n",
      "   Mono evaluation - using median scaling\n",
      " Scaling ratios | med: 5.315 | std: 0.082\n",
      "\n",
      "   abs_rel |   sq_rel |     rmse | rmse_log |       a1 |       a2 |       a3 | \n",
      "&   0.084  &   0.539  &   3.897  &   0.162  &   0.924  &   0.971  &   0.985  \\\\\n",
      "\n",
      "-> Done!\n"
     ]
    }
   ],
   "source": [
    "conf = Effb5_320x1024_Conf().conf\n",
    "evaluate(conf)"
   ]
  },
  {
   "cell_type": "markdown",
   "metadata": {},
   "source": [
    "### ConvNeXtLarge - 320x1024 model evaluation"
   ]
  },
  {
   "cell_type": "code",
   "execution_count": 12,
   "metadata": {},
   "outputs": [
    {
     "name": "stdout",
     "output_type": "stream",
     "text": [
      "-> Loading weights from /data/disertatie/SQLdepth/src/pretrained/KITTI_ConvNeXt_Large_320x1024_models\n",
      "Total Trainable Params: 238411488\n",
      "Total Trainable Params: 3738816\n",
      "-> Loading pretrained encoder from  /data/disertatie/SQLdepth/src/pretrained/KITTI_ConvNeXt_Large_320x1024_models\n",
      "-> Loading pretrained depth decoder from  /data/disertatie/SQLdepth/src/pretrained/KITTI_ConvNeXt_Large_320x1024_models\n",
      "-> Computing predictions with size 1024x320 (WxH)\n"
     ]
    },
    {
     "name": "stderr",
     "output_type": "stream",
     "text": [
      "100%|███████████████████████████████████████████████████████████████████████████████████████████████████████████████████████████████████████████████████████████████████████| 697/697 [01:51<00:00,  6.27it/s]\n"
     ]
    },
    {
     "name": "stdout",
     "output_type": "stream",
     "text": [
      "-> Evaluating\n",
      "   Mono evaluation - using median scaling\n",
      " Scaling ratios | med: 1.007 | std: 0.048\n",
      "\n",
      "   abs_rel |   sq_rel |     rmse | rmse_log |       a1 |       a2 |       a3 | \n",
      "&   0.074  &   0.491  &   3.578  &   0.150  &   0.939  &   0.974  &   0.986  \\\\\n",
      "\n",
      "-> Done!\n"
     ]
    }
   ],
   "source": [
    "conf = ConvNeXtLarge_320x1024_Conf().conf\n",
    "evaluate(conf)"
   ]
  },
  {
   "cell_type": "markdown",
   "metadata": {},
   "source": [
    "## Evaluation split: eigen_benchmark"
   ]
  },
  {
   "cell_type": "markdown",
   "metadata": {},
   "source": [
    "### ResNet50 - 192x640 model evaluation"
   ]
  },
  {
   "cell_type": "code",
   "execution_count": 6,
   "metadata": {},
   "outputs": [
    {
     "name": "stdout",
     "output_type": "stream",
     "text": [
      "-> Loading weights from /data/disertatie/SQLdepth/src/pretrained/KITTI_ResNet50_192x640_models\n",
      "Total Trainable Params: 28232680\n",
      "Total Trainable Params: 2819264\n",
      "-> Loading pretrained encoder from  /data/disertatie/SQLdepth/src/pretrained/KITTI_ResNet50_192x640_models\n",
      "-> Loading pretrained depth decoder from  /data/disertatie/SQLdepth/src/pretrained/KITTI_ResNet50_192x640_models\n",
      "-> Computing predictions with size 640x192 (WxH)\n"
     ]
    },
    {
     "name": "stderr",
     "output_type": "stream",
     "text": [
      "100%|███████████████████████████████████████████████████████████████████████████████████████████████████████████████████████████████████████████████████████████████████████| 652/652 [00:46<00:00, 13.94it/s]\n"
     ]
    },
    {
     "name": "stdout",
     "output_type": "stream",
     "text": [
      "-> Evaluating\n",
      "   Mono evaluation - using median scaling\n",
      " Scaling ratios | med: 5.339 | std: 0.065\n",
      "\n",
      "   abs_rel |   sq_rel |     rmse | rmse_log |       a1 |       a2 |       a3 | \n",
      "&   0.054  &   0.276  &   2.819  &   0.092  &   0.964  &   0.993  &   0.998  \\\\\n",
      "\n",
      "-> Done!\n"
     ]
    }
   ],
   "source": [
    "conf = ResNet50_192x640_Conf().conf\n",
    "evaluate(conf)"
   ]
  },
  {
   "cell_type": "markdown",
   "metadata": {},
   "source": [
    "### ResNet50 - 320x1024 model evaluation"
   ]
  },
  {
   "cell_type": "code",
   "execution_count": 5,
   "metadata": {},
   "outputs": [
    {
     "name": "stdout",
     "output_type": "stream",
     "text": [
      "-> Loading weights from /data/disertatie/SQLdepth/src/pretrained/KITTI_ResNet50_320x1024_models\n",
      "Total Trainable Params: 28232680\n",
      "Total Trainable Params: 9550144\n",
      "-> Loading pretrained encoder from  /data/disertatie/SQLdepth/src/pretrained/KITTI_ResNet50_320x1024_models\n",
      "-> Loading pretrained depth decoder from  /data/disertatie/SQLdepth/src/pretrained/KITTI_ResNet50_320x1024_models\n",
      "-> Computing predictions with size 1024x320 (WxH)\n"
     ]
    },
    {
     "name": "stderr",
     "output_type": "stream",
     "text": [
      "100%|███████████████████████████████████████████████████████████████████████████████████████████████████████████████████████████████████████████████████████████████████████| 652/652 [01:31<00:00,  7.12it/s]\n"
     ]
    },
    {
     "name": "stdout",
     "output_type": "stream",
     "text": [
      "-> Evaluating\n",
      "   Mono evaluation - using median scaling\n",
      " Scaling ratios | med: 5.326 | std: 0.080\n",
      "\n",
      "   abs_rel |   sq_rel |     rmse | rmse_log |       a1 |       a2 |       a3 | \n",
      "&   0.052  &   0.223  &   2.550  &   0.084  &   0.971  &   0.995  &   0.998  \\\\\n",
      "\n",
      "-> Done!\n"
     ]
    }
   ],
   "source": [
    "conf = ResNet50_320x1024_Conf().conf\n",
    "evaluate(conf)"
   ]
  },
  {
   "cell_type": "markdown",
   "metadata": {},
   "source": [
    "### EfficientNetB5 - 320x1024 model evaluation"
   ]
  },
  {
   "cell_type": "code",
   "execution_count": 7,
   "metadata": {},
   "outputs": [
    {
     "name": "stdout",
     "output_type": "stream",
     "text": [
      "-> Loading weights from /data/disertatie/SQLdepth/src/pretrained/KITTI_EfficientNetB5_320x1024_models\n",
      "Total Trainable Params: 35380176\n",
      "Total Trainable Params: 10322240\n",
      "-> Loading pretrained encoder from  /data/disertatie/SQLdepth/src/pretrained/KITTI_EfficientNetB5_320x1024_models\n",
      "-> Loading pretrained depth decoder from  /data/disertatie/SQLdepth/src/pretrained/KITTI_EfficientNetB5_320x1024_models\n",
      "-> Computing predictions with size 1024x320 (WxH)\n"
     ]
    },
    {
     "name": "stderr",
     "output_type": "stream",
     "text": [
      "100%|███████████████████████████████████████████████████████████████████████████████████████████████████████████████████████████████████████████████████████████████████████| 652/652 [05:30<00:00,  1.97it/s]\n"
     ]
    },
    {
     "name": "stdout",
     "output_type": "stream",
     "text": [
      "-> Evaluating\n",
      "   Mono evaluation - using median scaling\n",
      " Scaling ratios | med: 5.097 | std: 0.087\n",
      "\n",
      "   abs_rel |   sq_rel |     rmse | rmse_log |       a1 |       a2 |       a3 | \n",
      "&   0.058  &   0.243  &   2.825  &   0.093  &   0.964  &   0.994  &   0.998  \\\\\n",
      "\n",
      "-> Done!\n"
     ]
    }
   ],
   "source": [
    "conf = Effb5_320x1024_Conf().conf\n",
    "evaluate(conf)"
   ]
  },
  {
   "cell_type": "markdown",
   "metadata": {},
   "source": [
    "### ConvNeXtLarge - 320x1024 model evaluation"
   ]
  },
  {
   "cell_type": "code",
   "execution_count": 8,
   "metadata": {},
   "outputs": [
    {
     "name": "stdout",
     "output_type": "stream",
     "text": [
      "-> Loading weights from /data/disertatie/SQLdepth/src/pretrained/KITTI_ConvNeXt_Large_320x1024_models\n",
      "Total Trainable Params: 238411488\n",
      "Total Trainable Params: 3738816\n",
      "-> Loading pretrained encoder from  /data/disertatie/SQLdepth/src/pretrained/KITTI_ConvNeXt_Large_320x1024_models\n",
      "-> Loading pretrained depth decoder from  /data/disertatie/SQLdepth/src/pretrained/KITTI_ConvNeXt_Large_320x1024_models\n",
      "-> Computing predictions with size 1024x320 (WxH)\n"
     ]
    },
    {
     "name": "stderr",
     "output_type": "stream",
     "text": [
      "100%|███████████████████████████████████████████████████████████████████████████████████████████████████████████████████████████████████████████████████████████████████████| 652/652 [01:44<00:00,  6.26it/s]\n"
     ]
    },
    {
     "name": "stdout",
     "output_type": "stream",
     "text": [
      "-> Evaluating\n",
      "   Mono evaluation - using median scaling\n",
      " Scaling ratios | med: 0.970 | std: 0.046\n",
      "\n",
      "   abs_rel |   sq_rel |     rmse | rmse_log |       a1 |       a2 |       a3 | \n",
      "&   0.045  &   0.147  &   2.130  &   0.070  &   0.982  &   0.997  &   0.999  \\\\\n",
      "\n",
      "-> Done!\n"
     ]
    }
   ],
   "source": [
    "conf = ConvNeXtLarge_320x1024_Conf().conf\n",
    "evaluate(conf)"
   ]
  }
 ],
 "metadata": {
  "kernelspec": {
   "display_name": "Python 3 (ipykernel)",
   "language": "python",
   "name": "python3"
  },
  "language_info": {
   "codemirror_mode": {
    "name": "ipython",
    "version": 3
   },
   "file_extension": ".py",
   "mimetype": "text/x-python",
   "name": "python",
   "nbconvert_exporter": "python",
   "pygments_lexer": "ipython3",
   "version": "3.9.16"
  }
 },
 "nbformat": 4,
 "nbformat_minor": 4
}
